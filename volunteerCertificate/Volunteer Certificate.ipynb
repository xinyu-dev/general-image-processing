{
 "cells": [
  {
   "cell_type": "markdown",
   "source": [
    "# Volunteer Certificate\n",
    "reads data from CSV, dynamically resizes text to fit bounding box, then applies text style, and outputs image as pdf"
   ],
   "metadata": {
    "collapsed": false,
    "pycharm": {
     "name": "#%% md\n"
    }
   }
  },
  {
   "cell_type": "markdown",
   "source": [
    "# Features\n",
    "\n",
    "1. The script loads an empty image template (e.g. a **.png** file), then reads data from csv file (columns: **name**, **start**, **end**). The **start** and **end** columns are the year the volunteer joined and left respectively.\n",
    "\n",
    "2. Dynamic text-resizing: If a volunteer has a very long name, its font size will decrease gradually until the text is able to fit in the bounding box.\n",
    "\n",
    "3. 1-year term and multi-year terms: If a volunteer joined and left in the same year (i.e. in the csv file,  `start == 2020`, `end == 2020 ` ), then on the certificate, only that year will appear in the lower right corner (e.g. `2020`). Otherwise, on the certificate the year will appear as a range (e.g. `2016 - 2020`).\n",
    "\n",
    "4. Output file as **name.pdf**, where the **name** is the volunteer name. For convenience a zip file of all pdf outputs is also generated.\n",
    "\n",
    "5. Unique file names: In a scenario where volunteers have the same name, the output file for the 2nd volunteer will say **name_1.pdf** (where **name** is the name of the volunteer), and for the 3rd volunteer it will say **name_2.pdf**, etc. In this you don't have to worry about overwriting the previous files.\n"
   ],
   "metadata": {
    "collapsed": false,
    "pycharm": {
     "name": "#%% md\n"
    }
   }
  },
  {
   "cell_type": "markdown",
   "source": [
    "# Notes\n",
    "\n",
    "1. Example Image info\n",
    " - size: (1790, 1276)\n",
    " - 150 dpi\n",
    " - RGB\n",
    "\n",
    "\n",
    "2. **Visualize the bounding box for the name area**\n",
    "\n",
    "```Python\n",
    "x1, y1, x2, y2=[298.2, 484, 1512.3, 660]\n",
    "name_box=draw.rectangle([x1, y1, x2, y2], outline='red')\n",
    "image\n",
    "```\n",
    "Recommended max size for text in order to fit into this bounding box:\n",
    "- max width for text:  ~ 1120\n",
    "- max height for text: ~ 200\n",
    "\n",
    "If using *Rochester-Regular* font type, a font size of 150 is generally good starting point."
   ],
   "metadata": {
    "collapsed": false,
    "pycharm": {
     "name": "#%% md\n"
    }
   }
  },
  {
   "cell_type": "markdown",
   "source": [
    "## Code"
   ],
   "metadata": {
    "collapsed": false,
    "pycharm": {
     "name": "#%% md\n"
    }
   }
  },
  {
   "cell_type": "code",
   "execution_count": 1,
   "outputs": [],
   "source": [
    "from PIL import Image\n",
    "from PIL import ImageDraw\n",
    "from PIL import ImageFont\n",
    "import pandas as pd\n",
    "import shutil\n",
    "import os"
   ],
   "metadata": {
    "collapsed": false,
    "pycharm": {
     "name": "#%%\n"
    }
   }
  },
  {
   "cell_type": "code",
   "execution_count": 11,
   "outputs": [],
   "source": [
    "def getSize(draw, info, max_w, font_size, font_style='Rochester-Regular.otf'):\n",
    "    myFont=ImageFont.truetype(font_style, font_size)\n",
    "    w, h=draw.textsize(info, font=myFont)\n",
    "\n",
    "    while w > max_w: #recommended max width, see note above\n",
    "        font_size-=1\n",
    "        myFont=ImageFont.truetype(font_style, font_size)\n",
    "        w, h=draw.textsize(info, font=myFont)\n",
    "    return (w, h, myFont)\n",
    "\n",
    "def writeInfo(draw, info, box, max_w, font_size):\n",
    "\n",
    "    #Coordinates of bounding box of name area\n",
    "    x1, y1, x2, y2=box\n",
    "\n",
    "    #Dynamically optimize font size to fit in the bounding box for name\n",
    "    w, h, myFont=getSize(draw, info, max_w, font_size)\n",
    "\n",
    "    #Add text with optimized font size\n",
    "    draw.text([(x1+x2-w)/2, (y1+y2-h)/2],info,\n",
    "                   align='center',\n",
    "                   fill='#43729F', font=myFont)\n",
    "\n",
    "def getCert(name, year):\n",
    "\n",
    "    #Load template\n",
    "    image=Image.open(\"Certificate_Demo.png\").convert(\"RGB\")\n",
    "    draw=ImageDraw.Draw(image)\n",
    "\n",
    "    name_box=[298.2, 484, 1512.3, 660]\n",
    "    max_w_name=1120\n",
    "    writeInfo(draw, name, name_box, max_w_name, font_size=150)\n",
    "\n",
    "    year_box=[1165, 950, 1516, 1042]\n",
    "    max_w_year=308\n",
    "    writeInfo(draw, year, year_box, max_w_year, font_size=60)\n",
    "\n",
    "    #return image object\n",
    "    return image\n"
   ],
   "metadata": {
    "collapsed": false,
    "pycharm": {
     "name": "#%%\n"
    }
   }
  },
  {
   "cell_type": "code",
   "execution_count": 12,
   "outputs": [],
   "source": [
    "def getUniqueFn(name, unique_fn):\n",
    "    ct=1\n",
    "    while name in unique_fn:\n",
    "        n=name.split('-')[0]  #get the name portion only\n",
    "        name=n+'-'+ str(ct)\n",
    "        ct+=1\n",
    "    unique_fn.add(name)\n",
    "    return name\n",
    "\n",
    "def certicate(data):\n",
    "\n",
    "    unique_fn=set([])\n",
    "\n",
    "    for i in range (0, data.shape[0]):\n",
    "        name, startYear, endYear=data.iloc[i, 0], data.iloc[i, 1], data.iloc[i, 2]\n",
    "        startYear, endYear=str(startYear), str(endYear)\n",
    "        if startYear==endYear:\n",
    "            image=getCert(name, str(endYear))\n",
    "            fn='result/'+getUniqueFn(name, unique_fn) +'.pdf'  #get unique file name\n",
    "            image.save(fn)\n",
    "        else:\n",
    "            image=getCert(name, str(startYear)+' - '+str(endYear))\n",
    "            fn='result/'+getUniqueFn(name, unique_fn) +'.pdf'  #get unique file name\n",
    "            image.save(fn)"
   ],
   "metadata": {
    "collapsed": false,
    "pycharm": {
     "name": "#%%\n"
    }
   }
  },
  {
   "cell_type": "code",
   "execution_count": 13,
   "outputs": [],
   "source": [
    "def makeDir():\n",
    "    folderPath=\"result\"\n",
    "    try:\n",
    "        shutil.rmtree(folderPath)  #delete 'result' folder and all its current contents if it exist\n",
    "    except:\n",
    "        pass  #if it doesn't exist then don't do anything\n",
    "    os.mkdir(folderPath) #make a new `result` folder\n",
    "    \n"
   ],
   "metadata": {
    "collapsed": false,
    "pycharm": {
     "name": "#%%\n"
    }
   }
  },
  {
   "cell_type": "code",
   "execution_count": 15,
   "outputs": [],
   "source": [
    "if __name__ =='__main__':\n",
    "    makeDir()\n",
    "    data=pd.read_csv(\"volunteers.csv\")\n",
    "    certicate(data)\n",
    "    shutil.make_archive(\"result\", 'zip', \"result\") #zip up file"
   ],
   "metadata": {
    "collapsed": false,
    "pycharm": {
     "name": "#%%\n"
    }
   }
  },
  {
   "cell_type": "code",
   "execution_count": 6,
   "outputs": [
    {
     "data": {
      "text/plain": "'/Users/mightycamole/Desktop/Data Science/Python/WorkWeb/CAS_Github/general-image-processing/volunteerCertificate'"
     },
     "execution_count": 6,
     "metadata": {},
     "output_type": "execute_result"
    }
   ],
   "source": [
    "\n"
   ],
   "metadata": {
    "collapsed": false,
    "pycharm": {
     "name": "#%%\n"
    }
   }
  }
 ],
 "metadata": {
  "kernelspec": {
   "name": "pycharm-ace65ce4",
   "language": "python",
   "display_name": "PyCharm (WorkWeb)"
  },
  "language_info": {
   "codemirror_mode": {
    "name": "ipython",
    "version": 2
   },
   "file_extension": ".py",
   "mimetype": "text/x-python",
   "name": "python",
   "nbconvert_exporter": "python",
   "pygments_lexer": "ipython2",
   "version": "2.7.6"
  }
 },
 "nbformat": 4,
 "nbformat_minor": 0
}