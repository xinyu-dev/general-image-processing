{
 "cells": [
  {
   "cell_type": "markdown",
   "metadata": {
    "collapsed": true,
    "pycharm": {
     "name": "#%% md\n"
    }
   },
   "source": [
    "# Logo Resizer\n"
   ]
  },
  {
   "cell_type": "markdown",
   "source": [
    "# Usage\n",
    "Batch-transform sponsor logos to uniform dimensions without shape distortion."
   ],
   "metadata": {
    "collapsed": false,
    "pycharm": {
     "name": "#%% md\n"
    }
   }
  },
  {
   "cell_type": "markdown",
   "source": [
    "# Features\n",
    "\n",
    "1. 1-line code for preprocessing, trimming, resizing, and pasting logo images into the user-defined bounding box of your background template\n",
    "\n",
    "```python\n",
    "    result_img=resizer(trim(imgPrep(logo_raw)), logoBox, temp)\n",
    "```\n",
    "\n",
    "2. Preprocessing: handling images on a transparent background\n",
    "\n",
    "For an image of `RGBA` mode, it is first pasted onto a white background of the same size as the original image, then it processed for trimming and resizing.\n",
    "\n",
    "\n",
    "3. Trimming: cut out extra white background of the original image\n",
    "\n",
    "Extra white background of the original logo image is trimmed prior to resizing to fit into the bounding box. This ensures that the logo image extends to the fullest possible size within the bounding box.\n",
    "\n",
    "4. Resizing: adjust images that are too large or too small.\n",
    "\n",
    "  - if logo's starting width and/or height exceed the bounding box, we will to shrink the logo so that it is just a bit smaller than the bounding box\n",
    "\n",
    "  - if logo's starting width and/or height is smaller than the bounding box, we will to enlarge the logo so that it is just a bit larger the bounding box\n",
    "\n",
    "5. Process multiple files and batch export to destination folder\n",
    "\n",
    "Input files are stored in `input_PNG_JPG_logo` folder. The script reads every `*.png` and `*.JPG` file in that folder, and process them, and export the result for each image to the `result` folder. A zip file of the `result` folder is also recreated for convenience of downloading from web-hosted jupyter notebooks."
   ],
   "metadata": {
    "collapsed": false,
    "pycharm": {
     "name": "#%% md\n"
    }
   }
  },
  {
   "cell_type": "markdown",
   "source": [
    "# Notes\n",
    "\n",
    "1. Template image info:\n",
    "\n",
    "   - size: 236x144\n",
    "   - 75 dpi\n",
    "   - RGB\n",
    "\n",
    "2. Input file requirement:\n",
    "\n",
    "   - **I implemented a check for the `*.png` and `*.jpg` filename, so that only image files with these extensions are processed.** Checking the file extension makes sure that only the correct format is included. **Modify the code in the `imgPrep` function if you want to the file to accept other formats.**\n",
    "\n",
    "\n",
    "3. Coordinates for the bounding box of the logo area `[x1, y1, x2, y2]` is : [32.78, 33.48, 200.76, 112.13]. To visualize the bounding box:\n",
    "\n",
    "    ```Python\n",
    "    temp=Image.open(\"template.png\")\n",
    "    draw=ImageDraw.Draw(temp)\n",
    "    draw.rectangle([32.78, 33.48, 200.76, 112.13], outline=\"red\")\n",
    "    temp.show()\n",
    "    ```\n",
    "    `templateWithBox.png` is same as `template.png` except that the bounding box is visible. You can also use it to test the code, such as:\n",
    "\n",
    "    ```Python\n",
    "    if __name__ =='__main__':\n",
    "        temp=Image.open(\"tempWithBox.png\")  #use `tempWithBox.png` to show the bounding box\n",
    "        logo = Image.open(\"harbormed.png\")\n",
    "        logoBox=[32.78, 33.48, 200.76, 112.13]\n",
    "        result=resizeLogo(trim(logo), logoBox, temp)\n",
    "    ```\n",
    "\n",
    "4. Note that after you finish running the code, you need to rename the `result` folder in the same directory. Alternatively you can save/move the `result` folder to a different directory. The reason for this is that, the code is designed to \"flush\" the result folder each time it runs. The old contents in the result folder will be lost and replaced with new contents.\n"
   ],
   "metadata": {
    "collapsed": false,
    "pycharm": {
     "name": "#%% md\n"
    }
   }
  },
  {
   "cell_type": "markdown",
   "source": [
    "# Examples\n",
    "\n",
    "For the purpose of illustration, in the following examples, I marked the bounding box for the logo in GREY and the whole image frame in RED.\n",
    "\n",
    "1. Resizing `examples/lonza-transparentBackground.png`. The raw images has a transparent background\n",
    "\n",
    "**Before**\n",
    "\n",
    "![lonza-raw](examples/lonza-transparentBackground.png)\n",
    "\n",
    "**After**\n",
    "\n",
    "![lonza-after](examples/lonza-2.png)\n",
    "\n",
    "2. Resizing `examples/harbormed-transparentBackground.png`. The raw images has a white background\n",
    "\n",
    "**Before**\n",
    "\n",
    "![harbormed-raw](examples/harbormed-whiteBacground.png)\n",
    "\n",
    "**After**\n",
    "\n",
    "![harbormed-after](examples/harbormed-2.png)"
   ],
   "metadata": {
    "collapsed": false,
    "pycharm": {
     "name": "#%% md\n"
    }
   }
  },
  {
   "cell_type": "markdown",
   "source": [
    "# Code"
   ],
   "metadata": {
    "collapsed": false,
    "pycharm": {
     "name": "#%% md\n"
    }
   }
  },
  {
   "cell_type": "code",
   "execution_count": 1,
   "outputs": [],
   "source": [
    "from PIL import Image, ImageChops, ImageDraw\n",
    "import glob\n",
    "import os\n",
    "import shutil"
   ],
   "metadata": {
    "collapsed": false,
    "pycharm": {
     "name": "#%%\n"
    }
   }
  },
  {
   "cell_type": "code",
   "execution_count": 2,
   "outputs": [],
   "source": [
    "def trim(logo):\n",
    "    \"\"\"\n",
    "    Trim extra whitespace surrinding the raw logo picture\n",
    "    :param logo: PIL.Image object\n",
    "    :return: bounding box for cropping\n",
    "    \"\"\"\n",
    "    bg = Image.new(logo.mode, logo.size, logo.getpixel((0,0)))\n",
    "    diff = ImageChops.difference(logo, bg)\n",
    "    diff = ImageChops.add(diff, diff, 2, -100)\n",
    "    bbox = diff.getbbox()\n",
    "    if bbox:\n",
    "        return logo.crop(bbox)\n",
    "\n",
    "def resizer(logo, logoBox, template):\n",
    "    \"\"\"\n",
    "    resizes image logos to fit into user-defined bounding box\n",
    "    :param logo: PIL.Image object\n",
    "    :param logoBox: Bounding box for the area. Coordinate is porvided in array format of [x1, y1, x2, y2] where [x1, y1] is the coordinate of the upper-left cornner, and [x2, y2] is that of the lower-right corner\n",
    "    :param template: PIL.Image object used as a background for pasting the logo\n",
    "    :return: PIL.Image object, with the resized logo pasted on the template background\n",
    "    \"\"\"\n",
    "\n",
    "    #get bounding box dimensions\n",
    "    x1, y1, x2, y2 = logoBox\n",
    "    boxWidth=x2-x1\n",
    "    boxHeight=y2-y1\n",
    "\n",
    "    #gradually resize until image fits within the logo bounding box. First we will define\n",
    "    resizeRatio=1\n",
    "\n",
    "    #if logo width and/or height exceed the bounding box, we want to shrink the logo so that it is just a bit smaller than the bounding box\n",
    "    if (logo.width>boxWidth or logo.height > boxHeight):\n",
    "        while logo.width>boxWidth or logo.height > boxHeight:\n",
    "            resizeRatio+=0.01\n",
    "            logo=logo.resize((round(logo.width/resizeRatio), round(logo.height/resizeRatio)))\n",
    "\n",
    "    #if logo width and/or height is smaller than the bounding box, we want to enlarge the logo so that it is just a bit larger the bounding box\n",
    "    else:\n",
    "        while logo.width < boxWidth and logo.height < boxHeight:\n",
    "            resizeRatio-=0.01\n",
    "            logo=logo.resize((round(logo.width/resizeRatio), round(logo.height/resizeRatio)))\n",
    "\n",
    "    #paste resized logo into the  template\n",
    "    deltaX=0.5*(x2-x1-logo.width)\n",
    "    deltaY=0.5*(y2-y1-logo.height)\n",
    "\n",
    "    result=template.copy()\n",
    "    result.paste(logo, (round(x1+deltaX), round(y1+deltaY)))\n",
    "\n",
    "    return result"
   ],
   "metadata": {
    "collapsed": false,
    "pycharm": {
     "name": "#%%\n"
    }
   }
  },
  {
   "cell_type": "code",
   "execution_count": 3,
   "outputs": [],
   "source": [
    "def imgPrep(logo_raw):\n",
    "    \"\"\"\n",
    "    Handles logo with transparency layer. For example, logo on a transparent background will be pasted to a white background before resizing. If image is already on a white background, nothing will be done.This step is needed before using the `trim` function\n",
    "    :param logo_raw: PIL.Image object, the raw logo image\n",
    "    :return: PIL.Image object, the raw logo pasted onto a white background.\n",
    "    \"\"\"\n",
    "\n",
    "    #load pixel data that will be used to convert transparent background\n",
    "    logo_raw.load()\n",
    "\n",
    "    #paste the image on to a white background, in case it has a transparent background\n",
    "    logo = Image.new(\"RGB\", logo_raw.size, (255, 255, 255))\n",
    "\n",
    "    #if the image includes a transparency layer\n",
    "    if logo_raw.mode=='RGBA':\n",
    "        logo.paste(logo_raw, mask = logo_raw.split()[3])\n",
    "        return logo\n",
    "\n",
    "    # if not in the RGBA mode, then nothing is done\n",
    "    else:\n",
    "        return logo_raw\n"
   ],
   "metadata": {
    "collapsed": false,
    "pycharm": {
     "name": "#%%\n"
    }
   }
  },
  {
   "cell_type": "code",
   "execution_count": 4,
   "outputs": [],
   "source": [
    "def makeDir():\n",
    "    \"\"\"\n",
    "    Handling directory of result files. Results will be stored in a folder called `result`. The program checks if such folder exsits. If it exists, its current contents will be disgarded. If it does not exist, the folder will be greated.\n",
    "    :return: None\n",
    "    \"\"\"\n",
    "    folderPath=\"result\"\n",
    "    try:\n",
    "        shutil.rmtree(folderPath)  #delete 'result' folder and all its current contents if it exist\n",
    "    except:\n",
    "        pass  #if it doesn't exist then don't do anything\n",
    "    os.mkdir(folderPath) #make a new `result` folder\n"
   ],
   "metadata": {
    "collapsed": false,
    "pycharm": {
     "name": "#%%\n"
    }
   }
  },
  {
   "cell_type": "code",
   "execution_count": 5,
   "outputs": [],
   "source": [
    "if __name__ =='__main__':\n",
    "\n",
    "    makeDir()\n",
    "\n",
    "    #To test code, use templateWithBox.png with the bounding box visible\n",
    "    temp=Image.open(\"template.png\")\n",
    "\n",
    "    #specify bounding box in the template for logo\n",
    "    logoBox=[32.78, 33.48, 200.76, 112.13]\n",
    "\n",
    "    #specify input file path and output file path\n",
    "    img_path = 'input_PNG_JPG_logo/'\n",
    "    output_path='result/'\n",
    "\n",
    "\n",
    "    # go through every PNG/JPG file in the input_PNG_JPG_logo folder, process it, then save the output in the result folder\n",
    "    # only process png and jpg files\n",
    "    for filename in glob.glob(os.path.join(img_path, '*.png'))+glob.glob(os.path.join(img_path, '*.PNG'))+glob.glob(os.path.join(img_path, '*.jpg'))+glob.glob(os.path.join(img_path, '*.JPG')):\n",
    "        with open(os.path.join(os.getcwd(), filename), 'r') as f:\n",
    "            fn=(filename.split('/')[-1]).split('.')[0] #get the name of the image. E.g. \"harbormed\" instead of \"input_PNG_JPG_Logo/harbormed.png\"\n",
    "            new_filename=output_path+fn+\"_2.png\"\n",
    "\n",
    "            #load raw logo\n",
    "            logo_raw = Image.open(filename)\n",
    "\n",
    "            #preprocess, trim,  resize the logo, then paste it onto the template\n",
    "            result_img=resizer(trim(imgPrep(logo_raw)), logoBox, temp)\n",
    "            result_img.save(new_filename)\n",
    "\n",
    "    shutil.make_archive(\"result\", 'zip', \"result\") #zip up file for easy download in web-based Jupyter\n",
    "\n",
    "\n"
   ],
   "metadata": {
    "collapsed": false,
    "pycharm": {
     "name": "#%%\n"
    }
   }
  },
  {
   "cell_type": "code",
   "execution_count": 5,
   "outputs": [],
   "source": [
    "\n"
   ],
   "metadata": {
    "collapsed": false,
    "pycharm": {
     "name": "#%%\n"
    }
   }
  }
 ],
 "metadata": {
  "kernelspec": {
   "name": "pycharm-ace65ce4",
   "language": "python",
   "display_name": "PyCharm (WorkWeb)"
  },
  "language_info": {
   "codemirror_mode": {
    "name": "ipython",
    "version": 2
   },
   "file_extension": ".py",
   "mimetype": "text/x-python",
   "name": "python",
   "nbconvert_exporter": "python",
   "pygments_lexer": "ipython2",
   "version": "2.7.6"
  }
 },
 "nbformat": 4,
 "nbformat_minor": 0
}