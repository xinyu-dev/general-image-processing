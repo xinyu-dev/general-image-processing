{
 "cells": [
  {
   "cell_type": "markdown",
   "metadata": {
    "pycharm": {
     "name": "#%% md\n"
    }
   },
   "source": [
    "# Headshot Cropper\n",
    "\n",
    "Batch-process images: first use openCV to detect faces, then expand the face bounding box to max possible, then crop a circle out of the bounding box, finally soften the edges."
   ]
  },
  {
   "cell_type": "markdown",
   "metadata": {
    "pycharm": {
     "name": "#%% md\n"
    }
   },
   "source": [
    "# Features\n",
    "\n",
    "**1. 1-line code for face recognition and cropping into a circle image with feathered (adjustable) edges, on a transparent background**\n",
    "\n",
    "```python\n",
    "    result=blurEdge(cropImage(img, faceDetection(img_cv)), blur_radius, offset=0)\n",
    "```\n",
    "\n",
    "**2. Process multiple files and batch export to destination folder**\n",
    "\n",
    "Input files are stored in `input_PNG_images` folder. The script reads every `*.png` file in that folder, and process them, and export the result for each image to the `result` folder. A zip file of the `result` folder is also recreated for convenience of downloading from web-hosted jupyter notebooks.\n",
    "\n",
    "**Note:**\n",
    "\n",
    "**1. If multiple faces are detected in a single photo, only the first face box will be extracted. The program does a generally good job at handling professional headshot, but it can also handle images with a certain level of complex backgrounds (depending on the accuracy of the openCV face detection)**\n",
    "\n",
    "**2. For the simplicity of demo,  script only reads PNG images, but you can change this parameter in the `os.path.join(img_path, '*.png')` line**\n",
    "\n",
    "\n"
   ]
  },
  {
   "cell_type": "markdown",
   "metadata": {
    "pycharm": {
     "name": "#%% md\n"
    }
   },
   "source": [
    "## Examples\n",
    "\n",
    "**Note: All resulting images resized to 200x200px. This parameter is user-adjustable. The extent of edge feather effect is also adjustable**\n",
    "\n",
    "### **1. Simple background**\n",
    "\n",
    "**Before**\n",
    "\n",
    "![simple-bg](input_PNG_images/simple-background.png)\n",
    "\n",
    "**After**\n",
    "\n",
    "![simple-bg-after](result/simple-background_2.png)\n",
    "\n",
    "\n",
    "### 2. Complex background\n",
    "\n",
    "**Before**\n",
    "\n",
    "![complex-1](input_PNG_images/complex_background1.png)\n",
    "\n",
    "\n",
    "**After**\n",
    "\n",
    "![complex-1-after](result/complex_background1_2.png)\n",
    "\n",
    "**Before**\n",
    "\n",
    "![complex-2](input_PNG_images/complex_background2.png)\n",
    "\n",
    "**After**\n",
    "\n",
    "![complex-2-after](result/complex_background2_2.png)\n",
    "\n",
    "*Example pictures credit: freepik (obtained under CAS's image license with freepik)*"
   ]
  },
  {
   "cell_type": "markdown",
   "metadata": {
    "pycharm": {
     "name": "#%% md\n"
    }
   },
   "source": [
    "# Code"
   ]
  },
  {
   "cell_type": "code",
   "execution_count": 2,
   "metadata": {},
   "outputs": [],
   "source": [
    "import cv2 as cv\n",
    "from PIL import Image\n",
    "from PIL import ImageDraw, ImageFilter\n",
    "import glob\n",
    "import os\n",
    "import shutil"
   ]
  },
  {
   "cell_type": "code",
   "execution_count": 3,
   "metadata": {
    "collapsed": false,
    "jupyter": {
     "outputs_hidden": false
    },
    "pycharm": {
     "name": "#%%\n"
    }
   },
   "outputs": [],
   "source": [
    "def faceDetection(img_cv):\n",
    "\n",
    "    #load openCV Classifier\n",
    "    face_cascade = cv.CascadeClassifier('haarcascade_frontalface_default.xml')\n",
    "\n",
    "    #convert CV image to greyscale\n",
    "    gray = cv.cvtColor(img_cv, cv.COLOR_BGR2GRAY)\n",
    "\n",
    "    #detect faces\n",
    "    faces = face_cascade.detectMultiScale(gray)\n",
    "\n",
    "    #get bounding box for the face.\n",
    "    face_lst=faces[0].tolist()   #Because this is a headshot, so there is only 1 face\n",
    "    x1, y1, x2, y2=face_lst[0], face_lst[1], face_lst[0]+face_lst[2], face_lst[1]+face_lst[3]\n",
    "\n",
    "    return (x1, y1, x2, y2)"
   ]
  },
  {
   "cell_type": "code",
   "execution_count": 4,
   "metadata": {
    "collapsed": false,
    "jupyter": {
     "outputs_hidden": false
    },
    "pycharm": {
     "name": "#%%\n"
    }
   },
   "outputs": [],
   "source": [
    "def cropImage(img, face_box):  #use pillow RGB color mode images\n",
    "\n",
    "    #get coordinates for the 2 corners of the face box\n",
    "    x1, y1, x2, y2=face_box\n",
    "\n",
    "    #create a draw object for the colored image\n",
    "    draw=ImageDraw.Draw(img)\n",
    "\n",
    "    #pass in the face bounding box\n",
    "    #draw.rectangle((x1, y1, x2, y2))\n",
    "\n",
    "    #draw outline for the bounding box\n",
    "    #draw.rectangle((x1, y1, x2, y2), outline=\"white\")\n",
    "    #display(img)\n",
    "\n",
    "    #get the width, height of the face box\n",
    "    w, h=x2-x1, y2-y1\n",
    "\n",
    "    #make the facebox a square so it's easier to cut a circle out of it later on\n",
    "    if w>h:\n",
    "        diff=(w-h)/2\n",
    "        y1-=diff\n",
    "        y2+=diff\n",
    "    else:\n",
    "        diff=(h-w)/2\n",
    "        x1-=diff\n",
    "        x2+=diff\n",
    "\n",
    "    #now expand the face box to max possible. Start with alpha=0, gradually increase alpha\n",
    "    alpha=0\n",
    "\n",
    "    # safe zone to avoid cutting outside of the border\n",
    "    safe = 0.2\n",
    "\n",
    "    #make sure face box doesn't go beyond the image borders!\n",
    "    while (x1>0 and x2 < img.size[0]-safe and y1>0 and y2<img.size[1]-safe):\n",
    "        x1-=alpha\n",
    "        y1-=alpha\n",
    "        x2+=alpha\n",
    "        y2+=alpha\n",
    "        alpha+=0.02  #step size for alpha\n",
    "\n",
    "    #visulize the expanded face box\n",
    "    #draw.rectangle((x1, y1, x2, y2), outline=\"white\")\n",
    "    #display(img)\n",
    "\n",
    "    #crop the image using the expanded face box\n",
    "    newImg=img.crop((x1, y1, x2, y2))\n",
    "\n",
    "    return newImg\n",
    "\n",
    "#blur the edges\n",
    "def blurEdge(img, blur_radius, offset=0):\n",
    "    offset = blur_radius * 2 + offset\n",
    "    mask = Image.new(\"L\", img.size, 0) #0 is black\n",
    "    draw = ImageDraw.Draw(mask)\n",
    "    draw.ellipse((offset, offset, img.size[0] - offset, img.size[1] - offset), fill=255) #fill with white\n",
    "    mask = mask.filter(ImageFilter.GaussianBlur(blur_radius))\n",
    "\n",
    "    result = img.copy()\n",
    "    result.putalpha(mask) #pixels=0(black) will disappear, pixels=255 (white) will show through\n",
    "\n",
    "    return result"
   ]
  },
  {
   "cell_type": "code",
   "execution_count": 5,
   "metadata": {
    "collapsed": false,
    "jupyter": {
     "outputs_hidden": false
    },
    "pycharm": {
     "name": "#%%\n"
    }
   },
   "outputs": [],
   "source": [
    "def makeDir(output_path):\n",
    "    \"\"\"\n",
    "    Handling directory of result files. Results will be stored in a folder called `result`. The program checks if such folder exsits. If it exists, its current contents will be disgarded. If it does not exist, the folder will be greated.\n",
    "    :return: None\n",
    "    \"\"\"\n",
    "    try:\n",
    "        shutil.rmtree(output_path)  #delete 'result' folder and all its current contents if it exist\n",
    "    except:\n",
    "        pass  #if it doesn't exist then don't do anything\n",
    "    os.mkdir(output_path) #make a new `result` folder"
   ]
  },
  {
   "cell_type": "code",
   "execution_count": 8,
   "metadata": {
    "collapsed": false,
    "jupyter": {
     "outputs_hidden": false
    },
    "pycharm": {
     "name": "#%%\n"
    }
   },
   "outputs": [],
   "source": [
    "if __name__==\"__main__\":\n",
    "\n",
    "    #specify input file path and output file path\n",
    "    img_path = 'input_PNG_images/'\n",
    "    output_path='result/'\n",
    "\n",
    "    makeDir(output_path)\n",
    "\n",
    "    # go through every PNG file in the input_PNG_logo folder, process it, then save the output in the result folder\n",
    "    for filename in glob.glob(os.path.join(img_path, '*.*')): # ONLY processs *.png file. Modify to suite your need\n",
    "        with open(os.path.join(os.getcwd(), filename), 'r') as f:\n",
    "            fn=(filename.split('/')[-1]).split('.')[0] #get the name of the image. E.g. \"harbormed\" instead of \"input_PNG_Logo/harbormed.png\"\n",
    "            new_filename=output_path+fn+\"_2.png\"\n",
    "\n",
    "            #read image into openCV\n",
    "            img_cv = cv.imread(filename)\n",
    "\n",
    "            #read image into PIl and convert to RGB\n",
    "            img=Image.open(filename).convert(\"RGB\")\n",
    "\n",
    "            #set blur radius\n",
    "            blur_radius=2\n",
    "\n",
    "            #process the image\n",
    "            result=blurEdge(cropImage(img, faceDetection(img_cv)), blur_radius, offset=0)\n",
    "\n",
    "            #resize the image\n",
    "            result.resize((800, 800)).save(new_filename)  #export as 800 * 800\n",
    "\n",
    "\n",
    "    shutil.make_archive(\"result\", 'zip', \"result\") #zip up file for easy download in web-based Jupyter\n"
   ]
  },
  {
   "cell_type": "code",
   "execution_count": null,
   "outputs": [],
   "source": [],
   "metadata": {
    "collapsed": false,
    "pycharm": {
     "name": "#%%\n"
    }
   }
  }
 ],
 "metadata": {
  "kernelspec": {
   "name": "python3",
   "language": "python",
   "display_name": "Python 3 (ipykernel)"
  },
  "language_info": {
   "codemirror_mode": {
    "name": "ipython",
    "version": 3
   },
   "file_extension": ".py",
   "mimetype": "text/x-python",
   "name": "python",
   "nbconvert_exporter": "python",
   "pygments_lexer": "ipython3",
   "version": "3.7.7"
  }
 },
 "nbformat": 4,
 "nbformat_minor": 4
}